{
 "cells": [
  {
   "cell_type": "code",
   "execution_count": null,
   "metadata": {},
   "outputs": [],
   "source": [
    "import pandas as pd\n",
    "import zemberek as zp\n",
    "from zemberek.normalization.turkish_sentence_normalizer import TurkishSentenceNormalizer\n",
    "from tqdm import tqdm\n",
    "import signal"
   ]
  },
  {
   "cell_type": "code",
   "execution_count": null,
   "metadata": {},
   "outputs": [],
   "source": [
    "dataframe = pd.read_excel('Türkçe Nefret Söylemi Veri Seti_1k.xlsx', sheet_name='1000 Tweet')\n",
    "\n",
    "dataframe = dataframe.iloc[1:, [1, 2]]"
   ]
  },
  {
   "cell_type": "code",
   "execution_count": null,
   "metadata": {},
   "outputs": [],
   "source": [
    "dataframe"
   ]
  },
  {
   "cell_type": "code",
   "execution_count": null,
   "metadata": {},
   "outputs": [],
   "source": [
    "morphology = zp.TurkishMorphology.create_with_defaults()\n",
    "normalizer = TurkishSentenceNormalizer(morphology)"
   ]
  },
  {
   "cell_type": "code",
   "execution_count": null,
   "metadata": {},
   "outputs": [],
   "source": [
    "resultDict = {'__tweet__': [], '__label__': []}\n",
    "\n",
    "cancaled = False\n",
    "\n",
    "def handler(signum, frame):\n",
    "    global cancaled\n",
    "    cancaled = True\n",
    "signal.signal(signal.SIGINT, handler)\n",
    "\n",
    "for index, row in tqdm(dataframe.iterrows()):\n",
    "    if cancaled:\n",
    "        break\n",
    "    try:\n",
    "        normalizedSentence = normalizer.normalize(row[0])\n",
    "        analysis = morphology.analyze_sentence(normalizedSentence)\n",
    "        after = morphology.disambiguate(normalizedSentence, analysis)\n",
    "    except:\n",
    "        print(\"Error: \", normalizedSentence)\n",
    "        continue\n",
    "    words = {}\n",
    "    for sentence in after.best_analysis():\n",
    "        if (words.get(sentence.get_stem())):\n",
    "            words[sentence.get_stem()] += 1\n",
    "        else:\n",
    "            words[sentence.get_stem()] = 1\n",
    "    \n",
    "    columns = set(list(words.keys()) + list(resultDict.keys())[2:])\n",
    "    for column in columns:\n",
    "        if column not in resultDict.keys():\n",
    "            resultDict[column] = [0] * len(resultDict['__tweet__'])\n",
    "        if column in words:\n",
    "            resultDict[column].append(int(words[column]))\n",
    "        else:\n",
    "            resultDict[column].append(int(0))\n",
    "    resultDict['__tweet__'].append(str(row[0]).replace('\\n', ' '))\n",
    "    resultDict['__label__'].append(str(row[1]) if row[1] != None and type(row[1]) is str else \"\")"
   ]
  },
  {
   "cell_type": "code",
   "execution_count": null,
   "metadata": {},
   "outputs": [],
   "source": [
    "\n",
    "list(resultDict.items())[1]\n"
   ]
  },
  {
   "cell_type": "code",
   "execution_count": null,
   "metadata": {},
   "outputs": [],
   "source": [
    "resultDataFrame = pd.DataFrame(resultDict)"
   ]
  },
  {
   "cell_type": "code",
   "execution_count": null,
   "metadata": {},
   "outputs": [],
   "source": [
    "resultDataFrame"
   ]
  },
  {
   "cell_type": "code",
   "execution_count": null,
   "metadata": {},
   "outputs": [],
   "source": [
    "resultDataFrame.to_csv(\"result.csv\")"
   ]
  }
 ],
 "metadata": {
  "kernelspec": {
   "display_name": "Python 3",
   "language": "python",
   "name": "python3"
  },
  "language_info": {
   "codemirror_mode": {
    "name": "ipython",
    "version": 3
   },
   "file_extension": ".py",
   "mimetype": "text/x-python",
   "name": "python",
   "nbconvert_exporter": "python",
   "pygments_lexer": "ipython3",
   "version": "3.9.2"
  },
  "orig_nbformat": 4
 },
 "nbformat": 4,
 "nbformat_minor": 2
}
