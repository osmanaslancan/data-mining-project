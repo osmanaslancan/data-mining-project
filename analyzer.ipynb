{
 "cells": [
  {
   "cell_type": "code",
   "execution_count": null,
   "metadata": {},
   "outputs": [],
   "source": [
    "import pandas as pd\n",
    "import zemberek as zp\n",
    "from zemberek.normalization.turkish_sentence_normalizer import TurkishSentenceNormalizer\n",
    "from tqdm import tqdm\n",
    "import signal"
   ]
  },
  {
   "cell_type": "code",
   "execution_count": null,
   "metadata": {},
   "outputs": [],
   "source": [
    "dataframe = pd.read_excel(\"Türkçe Nefret Söylemi Veri Seti_1k.xlsx\", sheet_name='1000 Tweet')\n",
    "\n",
    "dataframe = dataframe.iloc[1:, [1, 2]]\n",
    "\n",
    "dataframe"
   ]
  },
  {
   "cell_type": "code",
   "execution_count": null,
   "metadata": {},
   "outputs": [],
   "source": [
    "morphology = zp.TurkishMorphology.create_with_defaults()\n",
    "normalizer = TurkishSentenceNormalizer(morphology)"
   ]
  },
  {
   "cell_type": "code",
   "execution_count": null,
   "metadata": {},
   "outputs": [],
   "source": [
    "resultDict = {'__tweet__': [], '__label__': []}\n",
    "\n",
    "cancaled = False\n",
    "\n",
    "def handler(signum, frame):\n",
    "    global cancaled\n",
    "    cancaled = True\n",
    "signal.signal(signal.SIGINT, handler)\n",
    "\n",
    "for index, row in tqdm(dataframe.iterrows()):\n",
    "    if cancaled:\n",
    "        break\n",
    "    if (row[1] == None or row[1] == \"\" or type(row[1]) is not str):\n",
    "        continue\n",
    "    try:\n",
    "        normalizedSentence = normalizer.normalize(row[0])\n",
    "        analysis = morphology.analyze_sentence(normalizedSentence)\n",
    "        after = morphology.disambiguate(normalizedSentence, analysis)\n",
    "    except:\n",
    "        print(\"Error: \", normalizedSentence)\n",
    "        continue\n",
    "    words = {}\n",
    "    for sentence in after.best_analysis():\n",
    "        if (words.get(sentence.get_stem())):\n",
    "            words[sentence.get_stem()] += 1\n",
    "        else:\n",
    "            words[sentence.get_stem()] = 1\n",
    "    \n",
    "    columns = set(list(words.keys()) + list(resultDict.keys())[2:])\n",
    "    for column in columns:\n",
    "        if column not in resultDict.keys():\n",
    "            resultDict[column] = [0] * len(resultDict['__tweet__'])\n",
    "        if column in words:\n",
    "            resultDict[column].append(int(words[column]))\n",
    "        else:\n",
    "            resultDict[column].append(int(0))\n",
    "    resultDict['__tweet__'].append(str(row[0]).replace('\\n', ' '))\n",
    "    resultDict['__label__'].append(str(row[1]) if row[1] != None and type(row[1]) is str else \"\")"
   ]
  },
  {
   "cell_type": "code",
   "execution_count": null,
   "metadata": {},
   "outputs": [],
   "source": [
    "list(resultDict.items())[1]"
   ]
  },
  {
   "cell_type": "code",
   "execution_count": null,
   "metadata": {},
   "outputs": [],
   "source": [
    "resultDataFrame = pd.DataFrame(resultDict)\n",
    "resultDataFrame"
   ]
  },
  {
   "cell_type": "code",
   "execution_count": null,
   "metadata": {},
   "outputs": [],
   "source": [
    "resultDataFrame.to_csv(\"result.csv\")"
   ]
  },
  {
   "attachments": {},
   "cell_type": "markdown",
   "metadata": {},
   "source": [
    "Information Gain"
   ]
  },
  {
   "cell_type": "code",
   "execution_count": null,
   "metadata": {},
   "outputs": [],
   "source": [
    "import pandas as pd"
   ]
  },
  {
   "cell_type": "code",
   "execution_count": null,
   "metadata": {},
   "outputs": [],
   "source": [
    "data = pd.read_csv(\"result.csv\")\n",
    "data"
   ]
  },
  {
   "cell_type": "code",
   "execution_count": null,
   "metadata": {},
   "outputs": [],
   "source": [
    "data.to_excel(\"kelime_frekans.xlsx\")"
   ]
  },
  {
   "cell_type": "code",
   "execution_count": null,
   "metadata": {},
   "outputs": [],
   "source": [
    "labels = { \"hiçbiri\" : 0, \"nefret söylemi\": 1, \"nefret\": 1,  \"saldırgan\": 2, \"saldırganlık\": 2 }\n",
    "data[\"__label__\"] = [labels[x.lower()] for x in data[\"__label__\"]]\n",
    "data"
   ]
  },
  {
   "cell_type": "code",
   "execution_count": null,
   "metadata": {},
   "outputs": [],
   "source": [
    "features = data.iloc[:, 3:]\n",
    "labels = data.iloc[:, 2]"
   ]
  },
  {
   "cell_type": "code",
   "execution_count": null,
   "metadata": {},
   "outputs": [],
   "source": [
    "import numpy as np\n",
    "(np.shape(features), np.shape(labels))"
   ]
  },
  {
   "cell_type": "code",
   "execution_count": null,
   "metadata": {},
   "outputs": [],
   "source": [
    "from sklearn.feature_selection import mutual_info_classif\n",
    "\n",
    "# Calculate the information gain for each feature\n",
    "info_gain = mutual_info_classif(features.values, labels.values, discrete_features=True)\n"
   ]
  },
  {
   "cell_type": "code",
   "execution_count": null,
   "metadata": {},
   "outputs": [],
   "source": [
    "info_gain_set = [(index, value) for index, value in enumerate(info_gain)]\n",
    "\n",
    "info_gain_set.sort(key=lambda x: x[1], reverse=True)\n",
    "top_1000 = info_gain_set[:1000]\n",
    "[(features.columns[x[0]], x[1]) for x in info_gain_set]"
   ]
  },
  {
   "cell_type": "code",
   "execution_count": null,
   "metadata": {},
   "outputs": [],
   "source": [
    "result = data[[\"__tweet__\", \"__label__\"] + [features.columns[i[0]] for i in top_1000]]\n",
    "result"
   ]
  },
  {
   "cell_type": "code",
   "execution_count": null,
   "metadata": {},
   "outputs": [],
   "source": [
    "result.to_excel(\"top_1000_kelime_frekans.xlsx\")"
   ]
  },
  {
   "cell_type": "code",
   "execution_count": null,
   "metadata": {},
   "outputs": [],
   "source": [
    "# use this if you want to test data without information gain\n",
    "# result = data.iloc[:, 1:]\n",
    "# result"
   ]
  },
  {
   "cell_type": "code",
   "execution_count": null,
   "metadata": {},
   "outputs": [],
   "source": [
    "from sklearn.metrics import accuracy_score, f1_score\n",
    "from sklearn.neighbors import KNeighborsClassifier\n",
    "from sklearn.model_selection import train_test_split\n",
    "\n",
    "accuracy_result = []\n",
    "\n",
    "for i in tqdm(range(1000)):\n",
    "    knn = KNeighborsClassifier(n_neighbors=1, metric='euclidean')\n",
    "\n",
    "    X_train, X_test, y_train, y_test = train_test_split(result.iloc[:, 2:], result.iloc[:, 1], test_size=0.3)\n",
    "\n",
    "    knn.fit(X_train, y_train)\n",
    "\n",
    "    y_pred = knn.predict(X_test)\n",
    "\n",
    "    accuracy = accuracy_score(y_test, y_pred)\n",
    "\n",
    "    f1 = f1_score(y_test, y_pred , average=\"macro\")\n",
    "\n",
    "    accuracy_result.append((accuracy, f1))\n",
    "\n",
    "# average \n",
    "(sum([x[0] for x in accuracy_result]) / len(accuracy_result), sum([x[1] for x in accuracy_result]) / len(accuracy_result))"
   ]
  },
  {
   "attachments": {},
   "cell_type": "markdown",
   "metadata": {},
   "source": [
    "Manual Predection"
   ]
  },
  {
   "cell_type": "code",
   "execution_count": null,
   "metadata": {},
   "outputs": [],
   "source": [
    "morphology = zp.TurkishMorphology.create_with_defaults()\n",
    "normalizer = TurkishSentenceNormalizer(morphology)"
   ]
  },
  {
   "cell_type": "code",
   "execution_count": null,
   "metadata": {},
   "outputs": [],
   "source": [
    "test_data = pd.DataFrame(data=[], columns=result.columns[2:])\n",
    "result.columns[2:]"
   ]
  },
  {
   "cell_type": "code",
   "execution_count": null,
   "metadata": {},
   "outputs": [],
   "source": [
    "\n",
    "def predSentence(sentence: str, columns):\n",
    "    normalizedSentence = normalizer.normalize(sentence)\n",
    "    analysis = morphology.analyze_sentence(normalizedSentence)\n",
    "    after = morphology.disambiguate(normalizedSentence, analysis)\n",
    "    words = {}\n",
    "    for sentence in after.best_analysis():\n",
    "            if (words.get(sentence.get_stem())):\n",
    "                words[sentence.get_stem()] += 1\n",
    "            else:\n",
    "                words[sentence.get_stem()] = 1\n",
    "    data = [{}]\n",
    "    matches = {}\n",
    "    for column in columns:\n",
    "            if column in words:\n",
    "                matches[column] = words[column]\n",
    "                data[0][column] = int(words[column])\n",
    "            else:\n",
    "                data[0][column] = int(0)\n",
    "\n",
    "    parsed_data = pd.DataFrame(data=data)\n",
    "    return [knn.predict(parsed_data)[0], matches]"
   ]
  },
  {
   "cell_type": "code",
   "execution_count": null,
   "metadata": {},
   "outputs": [],
   "source": [
    "sentence = \"\"\"\"\"\"\n",
    "predSentence(sentence)"
   ]
  },
  {
   "cell_type": "code",
   "execution_count": null,
   "metadata": {},
   "outputs": [],
   "source": [
    "dataset_1k = pd.read_excel(\"Türkçe Nefret Söylemi Veri Seti_1k.xlsx\", sheet_name=\"1000 Tweet\")\n",
    "dataframe_1k = dataset_1k.iloc[1:, [1, 2]]\n",
    "dataframe_1k"
   ]
  },
  {
   "cell_type": "code",
   "execution_count": null,
   "metadata": {},
   "outputs": [],
   "source": [
    "columns = test_data.columns\n",
    "result = []\n",
    "for index, row in tqdm(dataframe_1k.iterrows()):\n",
    "    pred, matches = predSentence(row[0], columns)\n",
    "    result.append(\n",
    "        {\n",
    "            \"tweet\": row[0],\n",
    "            \"label\": row[1],\n",
    "            \"pred\": pred,\n",
    "            \"matches\": matches\n",
    "        }\n",
    "    )"
   ]
  },
  {
   "cell_type": "code",
   "execution_count": null,
   "metadata": {},
   "outputs": [],
   "source": [
    "df = pd.DataFrame(result)\n",
    "df.to_excel(\"pred_1k.xlsx\")"
   ]
  }
 ],
 "metadata": {
  "kernelspec": {
   "display_name": "Python 3",
   "language": "python",
   "name": "python3"
  },
  "language_info": {
   "codemirror_mode": {
    "name": "ipython",
    "version": 3
   },
   "file_extension": ".py",
   "mimetype": "text/x-python",
   "name": "python",
   "nbconvert_exporter": "python",
   "pygments_lexer": "ipython3",
   "version": "3.9.2"
  },
  "orig_nbformat": 4
 },
 "nbformat": 4,
 "nbformat_minor": 2
}
