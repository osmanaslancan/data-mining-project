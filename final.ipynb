{
 "cells": [
  {
   "attachments": {},
   "cell_type": "markdown",
   "metadata": {},
   "source": [
    "Veri yapıları final sınavı"
   ]
  },
  {
   "attachments": {},
   "cell_type": "markdown",
   "metadata": {},
   "source": [
    "Tweetler'deki kelimeleri köklerine ayırma"
   ]
  },
  {
   "cell_type": "code",
   "execution_count": null,
   "metadata": {},
   "outputs": [],
   "source": [
    "import pandas as pd\n",
    "import zemberek as zp\n",
    "from zemberek.normalization.turkish_sentence_normalizer import TurkishSentenceNormalizer\n",
    "from tqdm import tqdm\n",
    "import signal"
   ]
  },
  {
   "cell_type": "code",
   "execution_count": null,
   "metadata": {},
   "outputs": [],
   "source": [
    "dataframe = pd.read_excel(\"final_dataset_small.xlsx\", sheet_name='Sheet1')\n",
    "dataframe = dataframe.iloc[1:, [1, 2]]\n",
    "dataframe"
   ]
  },
  {
   "cell_type": "code",
   "execution_count": null,
   "metadata": {},
   "outputs": [],
   "source": [
    "morphology = zp.TurkishMorphology.create_with_defaults()\n",
    "normalizer = TurkishSentenceNormalizer(morphology)"
   ]
  },
  {
   "cell_type": "code",
   "execution_count": null,
   "metadata": {},
   "outputs": [],
   "source": [
    "resultDict = {'__tweet__': [], '__label__': []}\n",
    "\n",
    "cancaled = False\n",
    "#pynotebookta sigint göderince durdurmak için\n",
    "def handler(signum, frame):\n",
    "    global cancaled\n",
    "    cancaled = True\n",
    "signal.signal(signal.SIGINT, handler)\n",
    "\n",
    "for index, row in tqdm(dataframe.iterrows()):\n",
    "    if cancaled:\n",
    "        break\n",
    "    if (row[1] == None or row[1] == \"\" or type(row[1]) is not str):\n",
    "        continue\n",
    "    try:\n",
    "        normalizedSentence = normalizer.normalize(row[0])\n",
    "        analysis = morphology.analyze_sentence(normalizedSentence)\n",
    "        after = morphology.disambiguate(normalizedSentence, analysis)\n",
    "    except:\n",
    "        print(\"Error: \", normalizedSentence)\n",
    "        continue\n",
    "    words = {}\n",
    "    for sentence in after.best_analysis():\n",
    "        if (words.get(sentence.get_stem())):\n",
    "            words[sentence.get_stem()] += 1\n",
    "        else:\n",
    "            words[sentence.get_stem()] = 1\n",
    "    \n",
    "    columns = set(list(words.keys()) + list(resultDict.keys())[2:])\n",
    "    for column in columns:\n",
    "        if column not in resultDict.keys():\n",
    "            resultDict[column] = [0] * len(resultDict['__tweet__'])\n",
    "        if column in words:\n",
    "            resultDict[column].append(int(words[column]))\n",
    "        else:\n",
    "            resultDict[column].append(int(0))\n",
    "    resultDict['__tweet__'].append(str(row[0]).replace('\\n', ' '))\n",
    "    resultDict['__label__'].append(str(row[1]) if row[1] != None and type(row[1]) is str else \"\")"
   ]
  },
  {
   "cell_type": "code",
   "execution_count": null,
   "metadata": {},
   "outputs": [],
   "source": [
    "resultDataFrame = pd.DataFrame(resultDict)\n",
    "resultDataFrame.to_csv(\"result.csv\")\n",
    "resultDataFrame"
   ]
  },
  {
   "cell_type": "code",
   "execution_count": null,
   "metadata": {},
   "outputs": [],
   "source": [
    "data = pd.read_csv(\"result.csv\")"
   ]
  },
  {
   "attachments": {},
   "cell_type": "markdown",
   "metadata": {},
   "source": [
    "Information Gain"
   ]
  },
  {
   "cell_type": "code",
   "execution_count": null,
   "metadata": {},
   "outputs": [],
   "source": [
    "import pandas as pd\n",
    "import zemberek as zp\n",
    "from zemberek.normalization.turkish_sentence_normalizer import TurkishSentenceNormalizer\n",
    "from tqdm import tqdm\n",
    "import signal\n",
    "from sklearn.feature_extraction.text import TfidfVectorizer, CountVectorizer\n",
    "import numpy as np"
   ]
  },
  {
   "cell_type": "code",
   "execution_count": null,
   "metadata": {},
   "outputs": [],
   "source": [
    "data = pd.read_csv(\"result.csv\")\n",
    "data"
   ]
  },
  {
   "cell_type": "code",
   "execution_count": null,
   "metadata": {},
   "outputs": [],
   "source": [
    "labels = { \"hiçbiri\" : 0, \"nefret söylemi\": 1, \"nefret\": 1,  \"saldırgan\": 2, \"saldırganlık\": 2 }\n",
    "data[\"__label__\"] = [labels[x.lower()] for x in data[\"__label__\"]]\n",
    "data"
   ]
  },
  {
   "cell_type": "code",
   "execution_count": null,
   "metadata": {},
   "outputs": [],
   "source": [
    "features = data.iloc[:, 3:]\n",
    "labels = data.iloc[:, 2]"
   ]
  },
  {
   "cell_type": "code",
   "execution_count": null,
   "metadata": {},
   "outputs": [],
   "source": [
    "(np.shape(features), np.shape(labels))"
   ]
  },
  {
   "cell_type": "code",
   "execution_count": null,
   "metadata": {},
   "outputs": [],
   "source": [
    "from sklearn.feature_selection import mutual_info_classif\n",
    "\n",
    "# Calculate the information gain for each feature\n",
    "info_gain = mutual_info_classif(features.values, labels.values, discrete_features=True)"
   ]
  },
  {
   "cell_type": "code",
   "execution_count": null,
   "metadata": {},
   "outputs": [],
   "source": [
    "info_gain_set = [(index, value) for index, value in enumerate(info_gain)]\n",
    "\n",
    "info_gain_set.sort(key=lambda x: x[1], reverse=True)\n",
    "top_1000 = info_gain_set[:1000]\n",
    "[(features.columns[x[0]], x[1]) for x in info_gain_set]"
   ]
  },
  {
   "cell_type": "code",
   "execution_count": null,
   "metadata": {},
   "outputs": [],
   "source": [
    "result = data[[\"__tweet__\", \"__label__\"] + [features.columns[i[0]] for i in top_1000]]\n",
    "result.to_excel(\"top_1000_kelime_frekans.xlsx\")\n",
    "result"
   ]
  },
  {
   "attachments": {},
   "cell_type": "markdown",
   "metadata": {},
   "source": [
    "TF-IDF vectorize "
   ]
  },
  {
   "cell_type": "code",
   "execution_count": null,
   "metadata": {},
   "outputs": [],
   "source": [
    "import pandas as pd\n",
    "import zemberek as zp\n",
    "from zemberek.normalization.turkish_sentence_normalizer import TurkishSentenceNormalizer\n",
    "from tqdm import tqdm\n",
    "import signal\n",
    "from sklearn.feature_extraction.text import TfidfVectorizer, CountVectorizer"
   ]
  },
  {
   "cell_type": "code",
   "execution_count": null,
   "metadata": {},
   "outputs": [],
   "source": [
    "data = pd.read_excel(\"top_1000_kelime_frekans.xlsx\")"
   ]
  },
  {
   "cell_type": "code",
   "execution_count": null,
   "metadata": {},
   "outputs": [],
   "source": [
    "corpus = data[\"__tweet__\"].tolist()\n",
    "\n",
    "vectorizer = TfidfVectorizer()\n",
    "X = vectorizer.fit_transform(corpus)\n",
    "names = vectorizer.get_feature_names_out()\n",
    "print(names)\n",
    "print(X)\n",
    "len(names)"
   ]
  },
  {
   "cell_type": "code",
   "execution_count": null,
   "metadata": {},
   "outputs": [],
   "source": [
    "lowest = 0\n",
    "word = \"\"\n",
    "for i in range(len(corpus)):\n",
    "    print(corpus[i])\n",
    "    size = X[i].getnnz()\n",
    "    for j in range(size):\n",
    "        x = (size - 1) - j\n",
    "        print(names[X[i].indices[x]], X[i].data[x])\n",
    "        values = [0] * data.shape[0]\n",
    "        values[i] = X[i].data[x]\n",
    "        data[names[X[i].indices[x]]] = values\n",
    "        if (X[i].data[x] < lowest):\n",
    "            lowest = X[i].data[x]\n",
    "            word = names[X[i].indices[x]]\n",
    "    print(\"\")\n",
    "data"
   ]
  },
  {
   "cell_type": "code",
   "execution_count": null,
   "metadata": {},
   "outputs": [],
   "source": [
    "result.to_excel(\"top_1000_kelime_frekans_TF_IDF.xlsx\")"
   ]
  },
  {
   "attachments": {},
   "cell_type": "markdown",
   "metadata": {},
   "source": [
    "Random Forest"
   ]
  },
  {
   "cell_type": "code",
   "execution_count": null,
   "metadata": {},
   "outputs": [],
   "source": [
    "import pandas as pd\n",
    "import zemberek as zp\n",
    "from zemberek.normalization.turkish_sentence_normalizer import TurkishSentenceNormalizer\n",
    "from tqdm import tqdm\n",
    "import signal\n",
    "from sklearn.feature_extraction.text import TfidfVectorizer, CountVectorizer"
   ]
  },
  {
   "cell_type": "code",
   "execution_count": null,
   "metadata": {},
   "outputs": [],
   "source": [
    "data = pd.read_excel(\"top_1000_kelime_frekans_TF_IDF.xlsx\")\n",
    "data"
   ]
  },
  {
   "cell_type": "code",
   "execution_count": null,
   "metadata": {},
   "outputs": [],
   "source": [
    "from sklearn.ensemble import RandomForestClassifier\n",
    "from sklearn.metrics import accuracy_score, f1_score\n",
    "from sklearn.model_selection import train_test_split\n",
    "from tqdm import tqdm\n",
    "\n",
    "accuracy_result = []\n",
    "\n",
    "for i in tqdm(range(50)):\n",
    "    rf = RandomForestClassifier()\n",
    "\n",
    "    X_train, X_test, y_train, y_test = train_test_split(data.iloc[:, 3:], data.iloc[:, 2], test_size=0.3)\n",
    "\n",
    "    rf.fit(X_train, y_train)\n",
    "\n",
    "    y_pred = rf.predict(X_test)\n",
    "\n",
    "    accuracy = accuracy_score(y_test, y_pred)\n",
    "\n",
    "    f1 = f1_score(y_test, y_pred , average=\"macro\")\n",
    "\n",
    "    accuracy_result.append((accuracy, f1))\n",
    "\n",
    "(sum([x[0] for x in accuracy_result]) / len(accuracy_result), sum([x[1] for x in accuracy_result]) / len(accuracy_result))"
   ]
  }
 ],
 "metadata": {
  "kernelspec": {
   "display_name": "Python 3",
   "language": "python",
   "name": "python3"
  },
  "language_info": {
   "codemirror_mode": {
    "name": "ipython",
    "version": 3
   },
   "file_extension": ".py",
   "mimetype": "text/x-python",
   "name": "python",
   "nbconvert_exporter": "python",
   "pygments_lexer": "ipython3",
   "version": "3.9.2"
  },
  "orig_nbformat": 4
 },
 "nbformat": 4,
 "nbformat_minor": 2
}
